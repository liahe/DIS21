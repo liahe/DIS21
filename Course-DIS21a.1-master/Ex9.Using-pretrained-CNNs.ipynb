{
 "cells": [
  {
   "cell_type": "markdown",
   "metadata": {},
   "source": [
    "<img src=\"https://www.th-koeln.de/img/logo.svg\" style=\"float: right;\" width=\"200\">"
   ]
  },
  {
   "cell_type": "markdown",
   "metadata": {},
   "source": [
    "# 9th exercise: <font color=\"#C70039\">Using pre-trained CNNs for better predictions</font>\n",
    "* Course: DIS21a.1\n",
    "* Lecturer: <a href=\"https://www.gernotheisenberg.de/\">Gernot Heisenberg</a>\n",
    "* Author of notebook modifications and adaptations: <a href=\"https://www.gernotheisenberg.de/\">Gernot Heisenberg</a>\n",
    "* Date:   19.07.2021\n",
    "\n",
    "<table><tr>\n",
    "<td> <img src=\"https://miro.medium.com/max/491/1*heOde2iTazjgrF7YzvOFyQ.png\" style=\"width: 350px;\"/> </td>\n",
    "<td> <img src=\"https://miro.medium.com/max/510/1*7ZD-u-h8hFPuN2PYJvLMBw.png\" style=\"width: 363px;\"/> </td>\n",
    "</tr></table>\n",
    "\n",
    "---------------------------------\n",
    "**GENERAL NOTE 1**: \n",
    "Please make sure you are reading the entire notebook, since it contains a lot of information about your tasks (e.g. regarding the set of certain paramaters or specific computational tricks, etc.), and the written mark downs as well as comments contain a lot of information on how things work together as a whole. \n",
    "\n",
    "**GENERAL NOTE 2**: \n",
    "* Please, when commenting source code, just use English language only. \n",
    "* When describing an observation (for instance, after you have run through your test plan) you may use German language.\n",
    "This applies to all exercises in DIS 21a.1.  \n",
    "\n",
    "---------------------\n",
    "\n",
    "### <font color=\"ce33ff\">DESCRIPTION</font>:\n",
    "\n",
    "This notebook allows for reviewing two additional and essential techniques for applying deep learning to small data sets. These are: \n",
    "* doing feature extraction with a pre-trained network (this will get you to an accuracy of 90% up to 93%)\n",
    "* fine-tuning a pre-trained network (this will get you to a final accuracy of 95%). \n",
    "\n",
    "In combination, the three strategies you have learned, as (1) training a small model from scratch as in the previous exercise, (2) doing feature extracting using a pre-trained model, and (3) fine-tuning a pre-trained model will constitute your future toolbox for tackling the problem of performing computer vision with small data sets.\n",
    "\n",
    "The reason the latter two are good options is that deep learning models are by nature highly reusable. It is possible to take an image classification model trained on a large-scale data set and then reuse it on a significantly different problem with only minor changes. \n",
    "Specifically, in the case of computer vision, many pre-trained models (usually trained on the ImageNet data set) are now publicly available for download and can be used to bootstrap (`https://de.wikipedia.org/wiki/Bootstrapping`) powerful vision models out of very little data. \n",
    "\n",
    "That is what you will learn in this exercise.\n",
    "\n",
    "-------------------------------------------------------------------------------------------------------------\n",
    "\n",
    "### <font color=\"FFC300\">TASKS</font>:\n",
    "Within this notebook, the tasks that you need to work on are always listed as bullet points below. \n",
    "If a task is more challenging and consists of several steps, this is indicated as well. \n",
    "Make sure you have worked down the task list and commented your doings. \n",
    "This should be done using markdown.<br> \n",
    "<font color=red>Make sure you don't forget to specify your name and your matriculation number in the notebook before submitting it.</font>\n",
    "\n",
    "**YOUR TASKS in this exercise are as follows**:\n",
    "1. import the notebook to Google Colab.\n",
    "2. make sure you specified you name and your matriculation number in the header below my name and date. \n",
    "    * set the date too and remove mine.\n",
    "3. read the entire notebook carefully.  \n",
    "    * add comments whereever you feel it necessary for better understanding.\n",
    "    * run the notebook for the first time and note the result in a markdown table. \n",
    "        * I have provided you with an example of a table in markdown (see below). Make sure you adapt your table accordingly. \n",
    "        * Put the table at the end of the notebook. \n",
    "        * This type of table will be needed in the other exercises as well. Always put it at the end.\n",
    "    \n",
    "| type of method | loss function | optimizer | accuracy |\n",
    "| :-: | :-: | :-: | :-: |\n",
    "| classification | categorical_crossentropy | bamm !|.666\n",
    "\n",
    "4. in PART I, \n",
    "    * save the model of feature extraction with method A\n",
    "    * load the model in a new, own code line,\n",
    "    * print out the model's summary,\n",
    "5. in PART I, if you have a personal data cracking machine with GPU support try to compile and train the model of feature extraction with method B.\n",
    "    * if you do not have a GPU (Note: you can have GPU support in Colab, too), then \n",
    "        * load the model I have saved for you on Moodle (it was too large to be put on github),\n",
    "        * print out the model's summary.\n",
    "6. then, after you loaded the model,\n",
    "    * take the validation data set and validate it using a history object,\n",
    "    * take the history object and plot the validaton results using pyplot.\n",
    "7. in PART II,  \n",
    "    * save the model using fine-tuning\n",
    "    * validate the model by using the validation data set using a history object\n",
    "    * take the history object and plot the validaton results using pyplot.\n",
    "8. in PART II, do a validation using the same model\n",
    "    * with more validation data (4000 samples)\n",
    "    * with less validation data (500 samples)\n",
    "   Store the results into a table. What is your observation?\n",
    "   \n",
    "-----------------------------------------------------------------------------------"
   ]
  },
  {
   "cell_type": "markdown",
   "metadata": {},
   "source": [
    "## START OF THE NOTEBOOK CODE\n",
    "----------------------------------------------------------------------------------------------------------------------\n",
    "### Preface\n",
    "\n",
    "A pre-trained network is simply a saved network previously trained on a large data set, typically on a large-scale image classification task. If this original data set is large and general enough, then the spatial feature hierarchy learned by the pre-trained network can effectively act as a generic model of our visual world and hence its features can prove useful for many different computer vision problems, even though these new problems might involve completely different classes from those of the original task. \n",
    "\n",
    "For instance, one might train a network on ImageNet (where classes are mostly animals and everyday objects) and then re-purpose this trained network for something as remote as identifying furniture items in images. Such portability of learned features across different problems is a key advantage of deep learning compared to many older shallow learning approaches, and it makes deep learning very effective for small-data problems.\n",
    "\n",
    "In the case of this exercise, a large CNN trained on the ImageNet data set is going to be used. ImageNet contains many animal classes, including different species of cats and dogs, and we can thus expect to perform very well on our cat vs. dog classification problem (1.4 million labeled images and 1000 different classes: read more following <a href=\"https://de.wikipedia.org/wiki/ImageNet\">https://de.wikipedia.org/wiki/ImageNet</a>).\n",
    "\n",
    "We will use the VGG16 architecture, developed by Karen Simonyan and Andrew Zisserman in 2014, a simple and widely used CNN architecture for ImageNet (<a href=\"https://keras.io/api/applications/vgg/\">https://keras.io/api/applications/vgg/</a>). \n",
    "\n",
    "Although it is a bit of an older model, its architecture is similar to what you are already familiar with, and easy to understand without introducing any new concepts. You may also have heart other model names e.g. -- VGG, ResNet, Inception, Inception-ResNet, Xception... you will get used to them, as they will come up frequently if you keep doing deep learning for computer vision.\n",
    "\n",
    "So finally, let's get started with feature extraction."
   ]
  },
  {
   "cell_type": "markdown",
   "metadata": {},
   "source": [
    "## <font color=\"#C70039\">PART I</font>\n",
    "### building a CNN by using a pre-trained CNN with feature extraction\n",
    "\n",
    "Feature extraction consists of using the representations learned by a previous network to extract interesting features from new samples. These features are then run through a new classifier, which is trained from scratch.\n",
    "\n",
    "As we saw previously, CNNs used for image classification comprise two parts: they start with a series of pooling and convolution layers, and they end with a densely (fully) connected classifier. \n",
    "\n",
    "The first part is called the \"convolutional base\" of the model. In the case of CNNs, \"feature extraction\" will simply consist of taking the convolutional base of a previously-trained network, running the new data through it, and training a new classifier on top of the output (see pages 254-258 in slides `DIS21a.1-9.Convolutional.NeuralNetworks.pdf`).\n",
    "\n",
    "Why only reuse the convolutional base? Could we reuse the densely-connected classifier as well? \n",
    "\n",
    "In general, it should be avoided. The reason is simply that the representations learned by the convolutional base are likely to be more generic and therefore more reusable: the \n",
    "feature maps of a CNN are presence maps of generic concepts over a picture, which is likely to be useful regardless of the computer vision problem at hand. \n",
    "On the other end, the representations learned by the classifier will necessarily be very specific to the set of \n",
    "classes that the model was trained on -- they will only contain information about the presence probability of this or that class in the entire picture. \n",
    "Additionally, representations found in densely (fully) connected layers no longer contain any information about _where_ objects are located in the input image: these layers get rid of the notion of space, whereas the object location is still described by convolutional feature maps. For problems where object location matters, densely (fully) connected features would be largely useless.\n",
    "\n",
    "Note, the level of generality (and therefore reusability) of the representations extracted by specific convolution layers depends on the depth of the layer in the model. Layers that come earlier in the model, extract local, highly generic feature maps (such as visual edges, colors, and textures), while layers higher-up extract more abstract concepts (such as \"cat ear\" or \"dog eye\"). So if your new data set differs a lot from the data set that the original model was trained on, you may be better off using only the first few layers of the model to do feature extraction, rather than using the entire convolutional base (compare the two images at the top of this exercise notebook that I provided you with).\n",
    "\n",
    "In our case, since the ImageNet class set did contain multiple dog and cat classes, it is likely that it would be beneficial to reuse the information contained in the densely (fully) connected layers of the original model. However, we will choose not to, in order to cover the more general case where the class set of the new problem does not overlap with the class set of the original model."
   ]
  },
  {
   "cell_type": "markdown",
   "metadata": {},
   "source": [
    "### approach \n",
    "\n",
    "Put the above said into practice by using the convolutional base of the VGG16 network, trained on ImageNet, to extract interesting features from our cat and dog images, and then training a cat vs. dog classifier on top of these features.\n",
    "\n",
    "The VGG16 model, among others, comes pre-packaged with Keras. You can import it from the `keras.applications` module. Here's the list of \n",
    "image classification models (all pre-trained on the ImageNet dataset) that are available as part of `keras.applications`:\n",
    "\n",
    "* Xception\n",
    "* InceptionV3\n",
    "* ResNet50\n",
    "* VGG16\n",
    "* VGG19\n",
    "* MobileNet\n",
    "\n",
    "To read more about the models use this reference: <a href=\"https://wiki.tum.de/display/ldv/Vergleich+von+vortrainierten+Neuronalen+Netzen\">https://wiki.tum.de/display/ldv/Vergleich+von+vortrainierten+Neuronalen+Netzen</a>.<br>\n",
    "For now, instantiate the VGG16 model:"
   ]
  },
  {
   "cell_type": "code",
   "execution_count": 1,
   "metadata": {},
   "outputs": [
    {
     "data": {
      "text/plain": [
       "'2.2.4-tf'"
      ]
     },
     "execution_count": 1,
     "metadata": {},
     "output_type": "execute_result"
    }
   ],
   "source": [
    "import tensorflow\n",
    "tensorflow.keras.__version__"
   ]
  },
  {
   "cell_type": "code",
   "execution_count": 2,
   "metadata": {},
   "outputs": [],
   "source": [
    "from tensorflow.keras.applications import VGG16\n",
    "\n",
    "conv_base = VGG16(weights='imagenet', include_top=False, input_shape=(150, 150, 3))"
   ]
  },
  {
   "cell_type": "markdown",
   "metadata": {},
   "source": [
    "Pass three arguments to the VGG16 constructor. These are:\n",
    "\n",
    "* *weights*: specifies which weight checkpoint in keras to initialize the model from\n",
    "\n",
    "* *include_top*: refers to including (or not including) the densely connected classifier on top of the network. By default, this densely connected classifier would correspond to the 1000 classes from ImageNet. Since we intend to use our own densely connected classifier (with only two classes, namely cat and dog), we don't need to include it.\n",
    "\n",
    "* *input_shape*: the shape of the image tensors that will be fed to the network. This argument is purely optional: if it is not specified, then the network will be able to process inputs of any size. Use here the size of the inputs as in the last exercise.\n",
    "\n",
    "Print out the model's summary and have a look at the architecture of the VGG16."
   ]
  },
  {
   "cell_type": "code",
   "execution_count": 3,
   "metadata": {
    "scrolled": true
   },
   "outputs": [
    {
     "name": "stdout",
     "output_type": "stream",
     "text": [
      "Model: \"vgg16\"\n",
      "_________________________________________________________________\n",
      "Layer (type)                 Output Shape              Param #   \n",
      "=================================================================\n",
      "input_1 (InputLayer)         [(None, 150, 150, 3)]     0         \n",
      "_________________________________________________________________\n",
      "block1_conv1 (Conv2D)        (None, 150, 150, 64)      1792      \n",
      "_________________________________________________________________\n",
      "block1_conv2 (Conv2D)        (None, 150, 150, 64)      36928     \n",
      "_________________________________________________________________\n",
      "block1_pool (MaxPooling2D)   (None, 75, 75, 64)        0         \n",
      "_________________________________________________________________\n",
      "block2_conv1 (Conv2D)        (None, 75, 75, 128)       73856     \n",
      "_________________________________________________________________\n",
      "block2_conv2 (Conv2D)        (None, 75, 75, 128)       147584    \n",
      "_________________________________________________________________\n",
      "block2_pool (MaxPooling2D)   (None, 37, 37, 128)       0         \n",
      "_________________________________________________________________\n",
      "block3_conv1 (Conv2D)        (None, 37, 37, 256)       295168    \n",
      "_________________________________________________________________\n",
      "block3_conv2 (Conv2D)        (None, 37, 37, 256)       590080    \n",
      "_________________________________________________________________\n",
      "block3_conv3 (Conv2D)        (None, 37, 37, 256)       590080    \n",
      "_________________________________________________________________\n",
      "block3_pool (MaxPooling2D)   (None, 18, 18, 256)       0         \n",
      "_________________________________________________________________\n",
      "block4_conv1 (Conv2D)        (None, 18, 18, 512)       1180160   \n",
      "_________________________________________________________________\n",
      "block4_conv2 (Conv2D)        (None, 18, 18, 512)       2359808   \n",
      "_________________________________________________________________\n",
      "block4_conv3 (Conv2D)        (None, 18, 18, 512)       2359808   \n",
      "_________________________________________________________________\n",
      "block4_pool (MaxPooling2D)   (None, 9, 9, 512)         0         \n",
      "_________________________________________________________________\n",
      "block5_conv1 (Conv2D)        (None, 9, 9, 512)         2359808   \n",
      "_________________________________________________________________\n",
      "block5_conv2 (Conv2D)        (None, 9, 9, 512)         2359808   \n",
      "_________________________________________________________________\n",
      "block5_conv3 (Conv2D)        (None, 9, 9, 512)         2359808   \n",
      "_________________________________________________________________\n",
      "block5_pool (MaxPooling2D)   (None, 4, 4, 512)         0         \n",
      "=================================================================\n",
      "Total params: 14,714,688\n",
      "Trainable params: 14,714,688\n",
      "Non-trainable params: 0\n",
      "_________________________________________________________________\n"
     ]
    }
   ],
   "source": [
    "conv_base.summary()"
   ]
  },
  {
   "cell_type": "markdown",
   "metadata": {},
   "source": [
    "This is the architecture of the VGG16 convolutional base. Its is very similar to the simple CNNs that were used in exercises 7 and 8.\n",
    "\n",
    "The final feature map has got a shape of `(4, 4, 512)`. On top of this feature, a densely connected classifier will be sticked. \n",
    "\n",
    "<font color=\"#C70039\">NOTE:</font>At this point, there are two ways you could proceed: \n",
    "\n",
    "1. <font color=\"orange\">possible method A</font>\n",
    "    * running the convolutional base over the entire data set\n",
    "    * recording its output to a numpy array on disk\n",
    "    * then using this data as input to a standalone densely connected classifier \n",
    "\n",
    "This method is very fast and cheap to run because it only requires running the convolutional base once for every input image, and the convolutional base is by far the most expensive part of the pipeline. However, for the exact same reason, this technique would not allow for leveraging data augmentation at all.\n",
    "\n",
    "2. <font color=\"blue\">possible method B</font>\n",
    "    * extending the convolutional base by adding `Dense` layers on top\n",
    "    * then running the whole thing end-to-end on the entire input data. \n",
    "    \n",
    "This method allows for using data augmentation, because every input image is going through the convolutional base every time it is seen by the model. However, for this same reason, this technique is far more expensive than the first one.\n",
    "\n",
    "In this ninth exercise both techniques are shown. \n",
    "\n",
    "-----------------"
   ]
  },
  {
   "cell_type": "markdown",
   "metadata": {},
   "source": [
    "## <font color=\"orange\">method A</font>\n",
    "\n",
    "Let's walk through the code required to set-up the first method A: recording the output of `conv_base` on the data and using these outputs as inputs to a new model.\n",
    "\n",
    "Simply start by running instances of the previously-introduced `ImageDataGenerator()` to extract images as numpy arrays as well as their labels. Then extract the features from these images simply by calling the `predict` method of the `conv_base` model."
   ]
  },
  {
   "cell_type": "code",
   "execution_count": 4,
   "metadata": {},
   "outputs": [
    {
     "name": "stdout",
     "output_type": "stream",
     "text": [
      "Found 2000 images belonging to 2 classes.\n",
      "Found 1000 images belonging to 2 classes.\n",
      "Found 1000 images belonging to 2 classes.\n"
     ]
    }
   ],
   "source": [
    "import os\n",
    "import numpy as np\n",
    "from tensorflow.keras.preprocessing.image import ImageDataGenerator\n",
    "\n",
    "base_dir = '../data/cats_and_dogs_small'\n",
    "\n",
    "train_dir = os.path.join(base_dir, 'train')\n",
    "validation_dir = os.path.join(base_dir, 'validation')\n",
    "test_dir = os.path.join(base_dir, 'test')\n",
    "\n",
    "datagen = ImageDataGenerator(rescale=1./255)\n",
    "batch_size = 20\n",
    "\n",
    "def extract_features(directory, sample_count):\n",
    "    features = np.zeros(shape=(sample_count, 4, 4, 512))\n",
    "    labels = np.zeros(shape=(sample_count))\n",
    "    generator = datagen.flow_from_directory(\n",
    "        directory,\n",
    "        target_size=(150, 150),\n",
    "        batch_size=batch_size,\n",
    "        class_mode='binary')\n",
    "    \n",
    "    i = 0\n",
    "    \n",
    "    for inputs_batch, labels_batch in generator:\n",
    "        features_batch = conv_base.predict(inputs_batch)\n",
    "        features[i * batch_size : (i + 1) * batch_size] = features_batch\n",
    "        labels[i * batch_size : (i + 1) * batch_size] = labels_batch\n",
    "        i += 1\n",
    "        if i * batch_size >= sample_count:\n",
    "            # Note that since generators yield data indefinitely in a loop,\n",
    "            # we must `break` after every image has been seen once.\n",
    "            break\n",
    "    return features, labels\n",
    "\n",
    "train_features, train_labels = extract_features(train_dir, 2000)\n",
    "validation_features, validation_labels = extract_features(validation_dir, 1000)\n",
    "test_features, test_labels = extract_features(test_dir, 1000)"
   ]
  },
  {
   "cell_type": "markdown",
   "metadata": {},
   "source": [
    "The extracted features are currently of shape `(samples, 4, 4, 512)`. <br>\n",
    "Feed them to a densely connected classifier!<br>\n",
    "Hence, flatten them to `(samples, 8192)`, (reshape into 4x4x512 !!!)"
   ]
  },
  {
   "cell_type": "code",
   "execution_count": 5,
   "metadata": {},
   "outputs": [],
   "source": [
    "train_features = np.reshape(train_features, (2000, 4 * 4 * 512))\n",
    "validation_features = np.reshape(validation_features, (1000, 4 * 4 * 512))\n",
    "test_features = np.reshape(test_features, (1000, 4 * 4 * 512))"
   ]
  },
  {
   "cell_type": "markdown",
   "metadata": {},
   "source": [
    "Now, define a densely (fully) connected classifier and train it on the data and labels that were just recorded. Use 50% dropout as regularization method."
   ]
  },
  {
   "cell_type": "code",
   "execution_count": 6,
   "metadata": {},
   "outputs": [
    {
     "name": "stdout",
     "output_type": "stream",
     "text": [
      "Train on 2000 samples, validate on 1000 samples\n",
      "Epoch 1/30\n",
      "2000/2000 [==============================] - 3s 1ms/sample - loss: 0.5977 - acc: 0.6820 - val_loss: 0.4314 - val_acc: 0.8470\n",
      "Epoch 2/30\n",
      "2000/2000 [==============================] - 3s 1ms/sample - loss: 0.4351 - acc: 0.8090 - val_loss: 0.3537 - val_acc: 0.8750\n",
      "Epoch 3/30\n",
      "2000/2000 [==============================] - 3s 1ms/sample - loss: 0.3604 - acc: 0.8390 - val_loss: 0.3165 - val_acc: 0.8750\n",
      "Epoch 4/30\n",
      "2000/2000 [==============================] - 3s 1ms/sample - loss: 0.3139 - acc: 0.8720 - val_loss: 0.2931 - val_acc: 0.8820\n",
      "Epoch 5/30\n",
      "2000/2000 [==============================] - 3s 1ms/sample - loss: 0.2883 - acc: 0.8810 - val_loss: 0.2762 - val_acc: 0.8930\n",
      "Epoch 6/30\n",
      "2000/2000 [==============================] - 3s 1ms/sample - loss: 0.2599 - acc: 0.8940 - val_loss: 0.2776 - val_acc: 0.8780\n",
      "Epoch 7/30\n",
      "2000/2000 [==============================] - 3s 1ms/sample - loss: 0.2452 - acc: 0.9060 - val_loss: 0.2626 - val_acc: 0.8930\n",
      "Epoch 8/30\n",
      "2000/2000 [==============================] - 3s 1ms/sample - loss: 0.2319 - acc: 0.9100 - val_loss: 0.2534 - val_acc: 0.8970\n",
      "Epoch 9/30\n",
      "2000/2000 [==============================] - 3s 1ms/sample - loss: 0.2208 - acc: 0.9165 - val_loss: 0.2605 - val_acc: 0.8880\n",
      "Epoch 10/30\n",
      "2000/2000 [==============================] - 3s 1ms/sample - loss: 0.2029 - acc: 0.9250 - val_loss: 0.2445 - val_acc: 0.9000\n",
      "Epoch 11/30\n",
      "2000/2000 [==============================] - 3s 1ms/sample - loss: 0.1945 - acc: 0.9275 - val_loss: 0.2412 - val_acc: 0.9030\n",
      "Epoch 12/30\n",
      "2000/2000 [==============================] - 3s 1ms/sample - loss: 0.1838 - acc: 0.9265 - val_loss: 0.2493 - val_acc: 0.8960\n",
      "Epoch 13/30\n",
      "2000/2000 [==============================] - 3s 1ms/sample - loss: 0.1818 - acc: 0.9395 - val_loss: 0.2402 - val_acc: 0.9010\n",
      "Epoch 14/30\n",
      "2000/2000 [==============================] - 3s 1ms/sample - loss: 0.1719 - acc: 0.9375 - val_loss: 0.2474 - val_acc: 0.8940\n",
      "Epoch 15/30\n",
      "2000/2000 [==============================] - 3s 1ms/sample - loss: 0.1609 - acc: 0.9445 - val_loss: 0.2348 - val_acc: 0.9050\n",
      "Epoch 16/30\n",
      "2000/2000 [==============================] - 3s 1ms/sample - loss: 0.1587 - acc: 0.9410 - val_loss: 0.2401 - val_acc: 0.8990\n",
      "Epoch 17/30\n",
      "2000/2000 [==============================] - 3s 1ms/sample - loss: 0.1471 - acc: 0.9505 - val_loss: 0.2788 - val_acc: 0.8820\n",
      "Epoch 18/30\n",
      "2000/2000 [==============================] - 3s 1ms/sample - loss: 0.1457 - acc: 0.9480 - val_loss: 0.2355 - val_acc: 0.9000\n",
      "Epoch 19/30\n",
      "2000/2000 [==============================] - 3s 1ms/sample - loss: 0.1316 - acc: 0.9535 - val_loss: 0.2348 - val_acc: 0.9020\n",
      "Epoch 20/30\n",
      "2000/2000 [==============================] - 3s 1ms/sample - loss: 0.1337 - acc: 0.9490 - val_loss: 0.2319 - val_acc: 0.9040\n",
      "Epoch 21/30\n",
      "2000/2000 [==============================] - 3s 1ms/sample - loss: 0.1209 - acc: 0.9565 - val_loss: 0.2356 - val_acc: 0.9020\n",
      "Epoch 22/30\n",
      "2000/2000 [==============================] - 3s 1ms/sample - loss: 0.1224 - acc: 0.9605 - val_loss: 0.2359 - val_acc: 0.9020\n",
      "Epoch 23/30\n",
      "2000/2000 [==============================] - 3s 1ms/sample - loss: 0.1114 - acc: 0.9660 - val_loss: 0.2326 - val_acc: 0.9050\n",
      "Epoch 24/30\n",
      "2000/2000 [==============================] - 3s 1ms/sample - loss: 0.1155 - acc: 0.9630 - val_loss: 0.2329 - val_acc: 0.9030\n",
      "Epoch 25/30\n",
      "2000/2000 [==============================] - 3s 1ms/sample - loss: 0.1057 - acc: 0.9645 - val_loss: 0.2338 - val_acc: 0.9030\n",
      "Epoch 26/30\n",
      "2000/2000 [==============================] - 3s 1ms/sample - loss: 0.1006 - acc: 0.9680 - val_loss: 0.2344 - val_acc: 0.9040\n",
      "Epoch 27/30\n",
      "2000/2000 [==============================] - 3s 1ms/sample - loss: 0.1028 - acc: 0.9670 - val_loss: 0.2350 - val_acc: 0.9030\n",
      "Epoch 28/30\n",
      "2000/2000 [==============================] - 3s 1ms/sample - loss: 0.0951 - acc: 0.9715 - val_loss: 0.2350 - val_acc: 0.9030\n",
      "Epoch 29/30\n",
      "2000/2000 [==============================] - 3s 1ms/sample - loss: 0.0948 - acc: 0.9685 - val_loss: 0.2455 - val_acc: 0.9010\n",
      "Epoch 30/30\n",
      "2000/2000 [==============================] - 3s 1ms/sample - loss: 0.0895 - acc: 0.9715 - val_loss: 0.2348 - val_acc: 0.9040\n"
     ]
    }
   ],
   "source": [
    "from tensorflow.keras import models\n",
    "from tensorflow.keras import layers\n",
    "from tensorflow.keras import optimizers\n",
    "\n",
    "model = models.Sequential()\n",
    "model.add(layers.Dense(256, activation='relu', input_dim=4 * 4 * 512))\n",
    "model.add(layers.Dropout(0.5))\n",
    "model.add(layers.Dense(1, activation='sigmoid'))\n",
    "\n",
    "# compare the parameters with those from Ex.8\n",
    "model.compile(optimizer=optimizers.RMSprop(lr=2e-5), # set a low learning rate\n",
    "              loss='binary_crossentropy', \n",
    "              metrics=['acc']) \n",
    "\n",
    "# write everything into a history object and set the same hyperparameters from Ex.8\n",
    "# train and validate the FC-ANN in one pass\n",
    "history = model.fit(train_features, train_labels,\n",
    "                    epochs=30,\n",
    "                    batch_size=20,\n",
    "                    validation_data=(validation_features, validation_labels))"
   ]
  },
  {
   "cell_type": "markdown",
   "metadata": {},
   "source": [
    "Training is very fast, since it only has got to deal with two dense layers. \n",
    "An epoch takes between two to three seconds to compute on CPU. (on Colab with pure CPU it is going to be slower for sure)<br> \n",
    "Let's have a look at the loss and accuracy curves during training plotting the history object with pyplot."
   ]
  },
  {
   "cell_type": "code",
   "execution_count": 7,
   "metadata": {},
   "outputs": [
    {
     "data": {
      "image/png": "[encoded data removed]",
      "text/plain": [
       "<Figure size 432x288 with 1 Axes>"
      ]
     },
     "metadata": {
      "needs_background": "light"
     },
     "output_type": "display_data"
    },
    {
     "data": {
      "image/png": "[encoded data removed]",
      "text/plain": [
       "<Figure size 432x288 with 1 Axes>"
      ]
     },
     "metadata": {
      "needs_background": "light"
     },
     "output_type": "display_data"
    }
   ],
   "source": [
    "import matplotlib.pyplot as plt\n",
    "\n",
    "acc = history.history['acc']\n",
    "val_acc = history.history['val_acc']\n",
    "loss = history.history['loss']\n",
    "val_loss = history.history['val_loss']\n",
    "\n",
    "epochs = range(len(acc))\n",
    "\n",
    "plt.plot(epochs, acc, 'bo', label='Training acc')\n",
    "plt.plot(epochs, val_acc, 'b', label='Validation acc')\n",
    "plt.title('Training and validation accuracy')\n",
    "plt.legend()\n",
    "\n",
    "plt.figure()\n",
    "\n",
    "plt.plot(epochs, loss, 'bo', label='Training loss')\n",
    "plt.plot(epochs, val_loss, 'b', label='Validation loss')\n",
    "plt.title('Training and validation loss')\n",
    "plt.legend()\n",
    "\n",
    "plt.show()"
   ]
  },
  {
   "cell_type": "markdown",
   "metadata": {},
   "source": [
    "### result of feature extraction: <font color=\"orange\">method A</font>\n",
    "The models reaches a validation accuracy of about 90% and hence it is much better than what was achieved in the previous, eigth exercise with the small self-build model trained from scratch. \n",
    "However, the plots also indicate that the model starts overfitting almost from start -- despite using dropout with a fairly large rate (Dropout(0.5)). \n",
    "This is because method A does not leverage data augmentation, which is essential to preventing overfitting with small image data sets."
   ]
  },
  {
   "cell_type": "markdown",
   "metadata": {},
   "source": [
    "<font color=\"ce33ff\">TASK 4</font>"
   ]
  },
  {
   "cell_type": "code",
   "execution_count": 8,
   "metadata": {},
   "outputs": [],
   "source": [
    "# add your code here\n",
    "\n"
   ]
  },
  {
   "cell_type": "markdown",
   "metadata": {},
   "source": [
    "## <font color=\"green\">method B</font>\n",
    "Now, try the second method (method B) for doing feature extraction, which is much slower and more expensive, but which allows \n",
    "for leveraging `data augmentation` during training: extending the conv_base model and running it end-to-end on the inputs. \n",
    "\n",
    "----------------------------------------\n",
    "\n",
    "<font color=\"#C70039\">IMPORTANT NOTE | IMPORTANT NOTE | IMPORTANT NOTE: </font>Method B is in fact so expensive that you should only try it if you have access to a GPU: it lasts a really long time on CPU. So either you have access to a really powerful GPU (I have not tested it on Google Colab with GPU support yet) or if not, and you cannot run your code on a GPU, then the previous method A is your way to go.\n",
    "\n",
    "<font color=\"ce33ff\">Just to give you an idea:</font> My virtual machine at the institute has got only CPU support (but ordentlich Wumms!!! as you can see from the following configuration) and it lasts for about 55 minutes to train and validate 30 epochs.\n",
    "\n",
    "<img src=\"./system.png\" style=\"float: center;\" width=\"600\">\n",
    "\n",
    "It would be fun to see and test, for how long it lasts to train and validate an epoch in Google's Colab (I have not done that yet).\n",
    "\n",
    "Nevertheless, this exercise shows the way method B is implemented, so you will be introduced to it and know how to use it somewhen later. Try it youself, if you are brave enough :-)\n",
    "\n",
    "----------------------------------------"
   ]
  },
  {
   "cell_type": "markdown",
   "metadata": {},
   "source": [
    "Because models behave just like layers, a model (like the `conv_base`) can be added to a `Sequential` model just like adding a layer. So doing it the following way, is the way to go."
   ]
  },
  {
   "cell_type": "code",
   "execution_count": 9,
   "metadata": {},
   "outputs": [],
   "source": [
    "from tensorflow.keras import models\n",
    "from tensorflow.keras import layers\n",
    "\n",
    "model = models.Sequential()\n",
    "model.add(conv_base)\n",
    "model.add(layers.Flatten())\n",
    "model.add(layers.Dense(256, activation='relu'))\n",
    "model.add(layers.Dense(1, activation='sigmoid'))"
   ]
  },
  {
   "cell_type": "markdown",
   "metadata": {},
   "source": [
    "This was pretty straight forward and this is what the model looks like now"
   ]
  },
  {
   "cell_type": "code",
   "execution_count": 10,
   "metadata": {},
   "outputs": [
    {
     "name": "stdout",
     "output_type": "stream",
     "text": [
      "Model: \"sequential_1\"\n",
      "_________________________________________________________________\n",
      "Layer (type)                 Output Shape              Param #   \n",
      "=================================================================\n",
      "vgg16 (Model)                (None, 4, 4, 512)         14714688  \n",
      "_________________________________________________________________\n",
      "flatten (Flatten)            (None, 8192)              0         \n",
      "_________________________________________________________________\n",
      "dense_2 (Dense)              (None, 256)               2097408   \n",
      "_________________________________________________________________\n",
      "dense_3 (Dense)              (None, 1)                 257       \n",
      "=================================================================\n",
      "Total params: 16,812,353\n",
      "Trainable params: 16,812,353\n",
      "Non-trainable params: 0\n",
      "_________________________________________________________________\n"
     ]
    }
   ],
   "source": [
    "model.summary()"
   ]
  },
  {
   "cell_type": "markdown",
   "metadata": {},
   "source": [
    "Now, it becomes obvious that the VGG16 is fairly large with a convolutional base of 14.714.688 parameters. \n",
    "The classifier we are adding on top has got additional 2 million parameters.\n",
    "\n",
    "Before compiling and training the new model, a very important thing to do is to `freeze` the convolutional base. **Freezing** a layer or set of layers means preventing their weights from getting updated during training again, since they are already trained, right. If this is forgotten, then the representations that were previously learned by the convolutional base would get modified (forgotten) during training. \n",
    "Since the dense layers on top are randomly initialized, very large weight updates would be propagated through the network, effectively destroying the representations previously learned.\n",
    "\n",
    "In Keras, freezing a network is simply done by setting its `trainable` attribute to `False`:"
   ]
  },
  {
   "cell_type": "code",
   "execution_count": 11,
   "metadata": {},
   "outputs": [
    {
     "name": "stdout",
     "output_type": "stream",
     "text": [
      "This is the number of trainable weight tensors \u001b[4mbefore\u001b[0m freezing the conv_base: 30\n",
      "This is the number of trainable weight tensors \u001b[4mafter\u001b[0m freezing the conv_base: 4\n"
     ]
    }
   ],
   "source": [
    "conv_base.trainable = True # should be the default setting\n",
    "\n",
    "print('This is the number of trainable weight tensors '\n",
    "      '\\033[4mbefore\\033[0m freezing the conv_base:', len(model.trainable_weights))\n",
    "\n",
    "# now freeze it\n",
    "conv_base.trainable = False\n",
    "\n",
    "print('This is the number of trainable weight tensors '\n",
    "      '\\033[4mafter\\033[0m freezing the conv_base:', len(model.trainable_weights))"
   ]
  },
  {
   "cell_type": "markdown",
   "metadata": {},
   "source": [
    "Now, only the weights from the two dense layers will be trained which is a total of four weight tensors - two per layer (the main weight matrix and the bias vector). \n",
    "\n",
    "<font color=\"#C70039\">IMPORTANT NOTE:</font>\n",
    "\n",
    "* in order for these changes to take effect, first compile the model. \n",
    "* if weight trainability is ever modified after compilation, then the model must be re-compiled or these changes will be ignored.\n",
    "\n",
    "Finally, start training the model with the same data augmentation configuration that was used in exercise 8."
   ]
  },
  {
   "cell_type": "code",
   "execution_count": 12,
   "metadata": {},
   "outputs": [
    {
     "name": "stdout",
     "output_type": "stream",
     "text": [
      "Found 2000 images belonging to 2 classes.\n",
      "Found 1000 images belonging to 2 classes.\n",
      "WARNING:tensorflow:sample_weight modes were coerced from\n",
      "  ...\n",
      "    to  \n",
      "  ['...']\n",
      "WARNING:tensorflow:sample_weight modes were coerced from\n",
      "  ...\n",
      "    to  \n",
      "  ['...']\n",
      "Train for 100 steps, validate for 50 steps\n",
      "Epoch 1/30\n",
      "100/100 - 106s - loss: 0.5917 - acc: 0.6880 - val_loss: 0.4510 - val_acc: 0.8260\n",
      "Epoch 2/30\n",
      "100/100 - 103s - loss: 0.4824 - acc: 0.8015 - val_loss: 0.3716 - val_acc: 0.8610\n",
      "Epoch 3/30\n",
      "100/100 - 104s - loss: 0.4370 - acc: 0.8055 - val_loss: 0.3543 - val_acc: 0.8490\n",
      "Epoch 4/30\n",
      "100/100 - 103s - loss: 0.4118 - acc: 0.8125 - val_loss: 0.3112 - val_acc: 0.8810\n",
      "Epoch 5/30\n",
      "100/100 - 104s - loss: 0.3778 - acc: 0.8450 - val_loss: 0.3015 - val_acc: 0.8820\n",
      "Epoch 6/30\n",
      "100/100 - 105s - loss: 0.3654 - acc: 0.8420 - val_loss: 0.2848 - val_acc: 0.8880\n",
      "Epoch 7/30\n",
      "100/100 - 104s - loss: 0.3491 - acc: 0.8485 - val_loss: 0.2826 - val_acc: 0.8890\n",
      "Epoch 8/30\n",
      "100/100 - 104s - loss: 0.3445 - acc: 0.8585 - val_loss: 0.2695 - val_acc: 0.8900\n",
      "Epoch 9/30\n",
      "100/100 - 104s - loss: 0.3261 - acc: 0.8635 - val_loss: 0.2658 - val_acc: 0.8890\n",
      "Epoch 10/30\n",
      "100/100 - 102s - loss: 0.3213 - acc: 0.8540 - val_loss: 0.2842 - val_acc: 0.8760\n",
      "Epoch 11/30\n",
      "100/100 - 102s - loss: 0.3317 - acc: 0.8675 - val_loss: 0.2603 - val_acc: 0.8920\n",
      "Epoch 12/30\n",
      "100/100 - 102s - loss: 0.3156 - acc: 0.8595 - val_loss: 0.2557 - val_acc: 0.8940\n",
      "Epoch 13/30\n",
      "100/100 - 102s - loss: 0.3283 - acc: 0.8600 - val_loss: 0.2490 - val_acc: 0.8980\n",
      "Epoch 14/30\n",
      "100/100 - 103s - loss: 0.3266 - acc: 0.8590 - val_loss: 0.2582 - val_acc: 0.8900\n",
      "Epoch 15/30\n",
      "100/100 - 103s - loss: 0.3105 - acc: 0.8740 - val_loss: 0.2445 - val_acc: 0.9000\n",
      "Epoch 16/30\n",
      "100/100 - 103s - loss: 0.3143 - acc: 0.8590 - val_loss: 0.2525 - val_acc: 0.8980\n",
      "Epoch 17/30\n",
      "100/100 - 103s - loss: 0.3065 - acc: 0.8565 - val_loss: 0.2456 - val_acc: 0.8990\n",
      "Epoch 18/30\n",
      "100/100 - 102s - loss: 0.3226 - acc: 0.8555 - val_loss: 0.2431 - val_acc: 0.9000\n",
      "Epoch 19/30\n",
      "100/100 - 102s - loss: 0.3016 - acc: 0.8755 - val_loss: 0.2478 - val_acc: 0.9010\n",
      "Epoch 20/30\n",
      "100/100 - 102s - loss: 0.3143 - acc: 0.8635 - val_loss: 0.2426 - val_acc: 0.8970\n",
      "Epoch 21/30\n",
      "100/100 - 103s - loss: 0.2926 - acc: 0.8770 - val_loss: 0.2397 - val_acc: 0.9050\n",
      "Epoch 22/30\n",
      "100/100 - 104s - loss: 0.2913 - acc: 0.8730 - val_loss: 0.2418 - val_acc: 0.8990\n",
      "Epoch 23/30\n",
      "100/100 - 104s - loss: 0.2873 - acc: 0.8720 - val_loss: 0.2393 - val_acc: 0.9000\n",
      "Epoch 24/30\n",
      "100/100 - 104s - loss: 0.2905 - acc: 0.8700 - val_loss: 0.2410 - val_acc: 0.9050\n",
      "Epoch 25/30\n",
      "100/100 - 104s - loss: 0.2953 - acc: 0.8735 - val_loss: 0.2409 - val_acc: 0.9000\n",
      "Epoch 26/30\n",
      "100/100 - 104s - loss: 0.2899 - acc: 0.8730 - val_loss: 0.2571 - val_acc: 0.8870\n",
      "Epoch 27/30\n",
      "100/100 - 104s - loss: 0.2820 - acc: 0.8715 - val_loss: 0.2399 - val_acc: 0.9030\n",
      "Epoch 28/30\n",
      "100/100 - 104s - loss: 0.2812 - acc: 0.8775 - val_loss: 0.2400 - val_acc: 0.8990\n",
      "Epoch 29/30\n",
      "100/100 - 104s - loss: 0.2954 - acc: 0.8725 - val_loss: 0.2404 - val_acc: 0.8960\n",
      "Epoch 30/30\n",
      "100/100 - 104s - loss: 0.2667 - acc: 0.8895 - val_loss: 0.2358 - val_acc: 0.9030\n"
     ]
    }
   ],
   "source": [
    "from tensorflow.keras.preprocessing.image import ImageDataGenerator\n",
    "\n",
    "train_datagen = ImageDataGenerator(\n",
    "      rescale=1./255,\n",
    "      rotation_range=40,\n",
    "      width_shift_range=0.2,\n",
    "      height_shift_range=0.2,\n",
    "      shear_range=0.2,\n",
    "      zoom_range=0.2,\n",
    "      horizontal_flip=True,\n",
    "      fill_mode='nearest')\n",
    "\n",
    "# Note again, that the validation data should not be augmented!\n",
    "test_datagen = ImageDataGenerator(rescale=1./255)\n",
    "\n",
    "train_generator = train_datagen.flow_from_directory(\n",
    "        train_dir,\n",
    "        target_size=(150, 150),\n",
    "        batch_size=20,\n",
    "        class_mode='binary')\n",
    "\n",
    "validation_generator = test_datagen.flow_from_directory(\n",
    "        validation_dir,\n",
    "        target_size=(150, 150),\n",
    "        batch_size=20,\n",
    "        class_mode='binary')\n",
    "\n",
    "model.compile(loss='binary_crossentropy',\n",
    "              optimizer=optimizers.RMSprop(lr=2e-5),\n",
    "              metrics=['acc'])\n",
    "\n",
    "history = model.fit(\n",
    "      train_generator,\n",
    "      steps_per_epoch=100,\n",
    "      epochs=30,\n",
    "      validation_data=validation_generator,\n",
    "      validation_steps=50,\n",
    "      verbose=2)"
   ]
  },
  {
   "cell_type": "code",
   "execution_count": 13,
   "metadata": {},
   "outputs": [],
   "source": [
    "model.save('CatDogClass_pretrained_CNN_FeatExtraction_using_data_augmentation.h5')"
   ]
  },
  {
   "cell_type": "code",
   "execution_count": 14,
   "metadata": {},
   "outputs": [],
   "source": [
    "# dump the history object to a file using pickle\n",
    "import pickle\n",
    "\n",
    "class History_trained_model(object):\n",
    "    def __init__(self, history, epoch, params):\n",
    "        self.history = history\n",
    "        self.epoch = epoch\n",
    "        self.params = params\n",
    "\n",
    "with open('C:/Users/gheisenb/Desktop/home/projects/ANN/Übungen/src'+\n",
    "          '/CatDogClass_pretrained_CNN_FeatExtraction_using_data_augmentation_History', 'wb') as file:\n",
    "    model_history= History_trained_model(history.history, history.epoch, history.params)\n",
    "    pickle.dump(model_history, file, pickle.HIGHEST_PROTOCOL)    "
   ]
  },
  {
   "cell_type": "markdown",
   "metadata": {},
   "source": [
    "<font color=\"ce33ff\">TASKS 5 and 6</font>"
   ]
  },
  {
   "cell_type": "code",
   "execution_count": 15,
   "metadata": {},
   "outputs": [],
   "source": [
    "# add your code here\n",
    "\n"
   ]
  },
  {
   "cell_type": "markdown",
   "metadata": {},
   "source": [
    "Plot the results again."
   ]
  },
  {
   "cell_type": "code",
   "execution_count": 16,
   "metadata": {},
   "outputs": [
    {
     "data": {
      "image/png": "[encoded data removed]",
      "text/plain": [
       "<Figure size 432x288 with 1 Axes>"
      ]
     },
     "metadata": {
      "needs_background": "light"
     },
     "output_type": "display_data"
    },
    {
     "data": {
      "image/png": "[encoded data removed]",
      "text/plain": [
       "<Figure size 432x288 with 1 Axes>"
      ]
     },
     "metadata": {
      "needs_background": "light"
     },
     "output_type": "display_data"
    }
   ],
   "source": [
    "acc = history.history['acc']\n",
    "val_acc = history.history['val_acc']\n",
    "loss = history.history['loss']\n",
    "val_loss = history.history['val_loss']\n",
    "\n",
    "epochs = range(len(acc))\n",
    "\n",
    "plt.plot(epochs, acc, 'bo', label='Training acc')\n",
    "plt.plot(epochs, val_acc, 'b', label='Validation acc')\n",
    "plt.title('Training and validation accuracy')\n",
    "plt.legend()\n",
    "\n",
    "plt.figure()\n",
    "\n",
    "plt.plot(epochs, loss, 'bo', label='Training loss')\n",
    "plt.plot(epochs, val_loss, 'b', label='Validation loss')\n",
    "plt.title('Training and validation loss')\n",
    "plt.legend()\n",
    "\n",
    "plt.show()"
   ]
  },
  {
   "cell_type": "markdown",
   "metadata": {},
   "source": [
    "### result of feature extraction: <font color=\"green\">method B</font>\n",
    "\n",
    "Double BAMM! This is a much higher validation accuracy using data augmentation and so it is much better than the small CNN trained from scratch."
   ]
  },
  {
   "cell_type": "markdown",
   "metadata": {},
   "source": [
    "---------------------------\n",
    "---------------------------\n",
    "\n",
    "## <font color=\"#C70039\">PART II</font>\n",
    "### building a CNN by using a pre-trained CNN with fine-tuning\n",
    "\n",
    "Complementary to *feature extraction*, is the so-called _fine-tuning_.<br>\n",
    "Fine-tuning consists in unfreezing a few of the top layers of a frozen model base used for feature extraction, and jointly training both, the newly added part of the model (in this case, the densely (fully) connected classifier) and these top layers. \n",
    "It is called `fine-tuning`, because it slightly adjusts the more abstract representations of the model being reused, in order to make them more relevant for the problem at hand.\n",
    "\n",
    "------"
   ]
  },
  {
   "cell_type": "markdown",
   "metadata": {},
   "source": [
    "We have stated before that it was necessary to freeze the convolution base of VGG16 in order to be able to train a randomly initialized classifier on top. For the same reason, it is only possible to fine-tune the top layers of the convolutional base once the classifier on top has already been trained. If the classifier wasn't already trained, then the error signal propagating through the network during training would become too large, and the representations previously learned by the layers being fine-tuned would get destroyed. Thus, the steps for fine-tuning a network are as follows<br>\n",
    "(see page 257 of slides `DIS21a.1-9.Convolutional.NeuralNetworks.pdf`):\n",
    "\n",
    "1. Add your custom network on top of an already trained base network.\n",
    "2. Freeze the base network.\n",
    "3. Train the part you added.\n",
    "4. Unfreeze some layers in the base network.\n",
    "5. Jointly train both these layers and the part you added.\n",
    "\n",
    "The first 3 steps are already completed when you did feature extraction. Thus proceed with the 4th step, unfreeze the `conv_base`, and then freeze individual layers inside of it.\n",
    "\n",
    "As a reminder, this is what the convolutional base looks like:"
   ]
  },
  {
   "cell_type": "code",
   "execution_count": 17,
   "metadata": {},
   "outputs": [
    {
     "name": "stdout",
     "output_type": "stream",
     "text": [
      "Model: \"vgg16\"\n",
      "_________________________________________________________________\n",
      "Layer (type)                 Output Shape              Param #   \n",
      "=================================================================\n",
      "input_1 (InputLayer)         [(None, 150, 150, 3)]     0         \n",
      "_________________________________________________________________\n",
      "block1_conv1 (Conv2D)        (None, 150, 150, 64)      1792      \n",
      "_________________________________________________________________\n",
      "block1_conv2 (Conv2D)        (None, 150, 150, 64)      36928     \n",
      "_________________________________________________________________\n",
      "block1_pool (MaxPooling2D)   (None, 75, 75, 64)        0         \n",
      "_________________________________________________________________\n",
      "block2_conv1 (Conv2D)        (None, 75, 75, 128)       73856     \n",
      "_________________________________________________________________\n",
      "block2_conv2 (Conv2D)        (None, 75, 75, 128)       147584    \n",
      "_________________________________________________________________\n",
      "block2_pool (MaxPooling2D)   (None, 37, 37, 128)       0         \n",
      "_________________________________________________________________\n",
      "block3_conv1 (Conv2D)        (None, 37, 37, 256)       295168    \n",
      "_________________________________________________________________\n",
      "block3_conv2 (Conv2D)        (None, 37, 37, 256)       590080    \n",
      "_________________________________________________________________\n",
      "block3_conv3 (Conv2D)        (None, 37, 37, 256)       590080    \n",
      "_________________________________________________________________\n",
      "block3_pool (MaxPooling2D)   (None, 18, 18, 256)       0         \n",
      "_________________________________________________________________\n",
      "block4_conv1 (Conv2D)        (None, 18, 18, 512)       1180160   \n",
      "_________________________________________________________________\n",
      "block4_conv2 (Conv2D)        (None, 18, 18, 512)       2359808   \n",
      "_________________________________________________________________\n",
      "block4_conv3 (Conv2D)        (None, 18, 18, 512)       2359808   \n",
      "_________________________________________________________________\n",
      "block4_pool (MaxPooling2D)   (None, 9, 9, 512)         0         \n",
      "_________________________________________________________________\n",
      "block5_conv1 (Conv2D)        (None, 9, 9, 512)         2359808   \n",
      "_________________________________________________________________\n",
      "block5_conv2 (Conv2D)        (None, 9, 9, 512)         2359808   \n",
      "_________________________________________________________________\n",
      "block5_conv3 (Conv2D)        (None, 9, 9, 512)         2359808   \n",
      "_________________________________________________________________\n",
      "block5_pool (MaxPooling2D)   (None, 4, 4, 512)         0         \n",
      "=================================================================\n",
      "Total params: 14,714,688\n",
      "Trainable params: 0\n",
      "Non-trainable params: 14,714,688\n",
      "_________________________________________________________________\n"
     ]
    }
   ],
   "source": [
    "conv_base.summary()"
   ]
  },
  {
   "cell_type": "markdown",
   "metadata": {},
   "source": [
    "\n",
    "The last 3 convolutional layers will be fine-tuned, which means that all layers up until `block4_pool` should be frozen, and the layers `block5_conv1`, `block5_conv2` and `block5_conv3` should set to be trainable.\n",
    "\n",
    "<font color=\"#C70039\">NOTE:</font> the question would come up, why not fine-tune more layers? \n",
    "Why not fine-tune the entire convolutional base? Obviously you could decide to do that, however, before you are starting this entirely new training, consider the following:\n",
    "\n",
    "* Earlier layers in the convolutional base encode more generic, reusable features, while layers higher up encode more specialized features. It is more useful to fine-tune the more specialized features as these are the ones that need to be repurposed on the new problem at hand. There would be fast-decreasing returns in fine-tuning lower layers.\n",
    "\n",
    "* The more parameters are trained, the more the model is at risk of overfitting. The convolutional base has got 15 million parameters, hence, it would be risky to attempt to train it on the small dataset.\n",
    "\n",
    "Thus, in the current situation it is a pretty good strategy to only fine-tune the top 2 to 3 layers in the convolutional base.\n",
    "\n",
    "So, do continue where you stopped in the previous example."
   ]
  },
  {
   "cell_type": "code",
   "execution_count": 18,
   "metadata": {},
   "outputs": [],
   "source": [
    "conv_base.trainable = True\n",
    "set_trainable = False\n",
    "\n",
    "for layer in conv_base.layers:\n",
    "    if layer.name == 'block5_conv1':\n",
    "        set_trainable = True\n",
    "    if set_trainable:\n",
    "        layer.trainable = True\n",
    "    else:\n",
    "        layer.trainable = False"
   ]
  },
  {
   "cell_type": "markdown",
   "metadata": {},
   "source": [
    "Now we can start fine-tuning our network. We will do this with the RMSprop optimizer, using a very low learning rate. The reason for using \n",
    "a low learning rate is that we want to limit the magnitude of the modifications we make to the representations of the 3 layers that we are \n",
    "fine-tuning. Updates that are too large may harm these representations.\n",
    "\n",
    "Now let's proceed with fine-tuning:"
   ]
  },
  {
   "cell_type": "code",
   "execution_count": 19,
   "metadata": {},
   "outputs": [
    {
     "name": "stdout",
     "output_type": "stream",
     "text": [
      "WARNING:tensorflow:sample_weight modes were coerced from\n",
      "  ...\n",
      "    to  \n",
      "  ['...']\n",
      "WARNING:tensorflow:sample_weight modes were coerced from\n",
      "  ...\n",
      "    to  \n",
      "  ['...']\n",
      "Train for 100 steps, validate for 50 steps\n",
      "Epoch 1/100\n",
      "100/100 [==============================] - 157s 2s/step - loss: 0.2988 - acc: 0.8710 - val_loss: 0.2258 - val_acc: 0.9070\n",
      "Epoch 2/100\n",
      "100/100 [==============================] - 153s 2s/step - loss: 0.2534 - acc: 0.8905 - val_loss: 0.2076 - val_acc: 0.9260\n",
      "Epoch 3/100\n",
      "100/100 [==============================] - 148s 1s/step - loss: 0.2375 - acc: 0.9035 - val_loss: 0.1974 - val_acc: 0.9270\n",
      "Epoch 4/100\n",
      "100/100 [==============================] - 149s 1s/step - loss: 0.2202 - acc: 0.9160 - val_loss: 0.1879 - val_acc: 0.9250\n",
      "Epoch 5/100\n",
      "100/100 [==============================] - 149s 1s/step - loss: 0.2043 - acc: 0.9160 - val_loss: 0.1922 - val_acc: 0.9250\n",
      "Epoch 6/100\n",
      "100/100 [==============================] - 151s 2s/step - loss: 0.2033 - acc: 0.9145 - val_loss: 0.1784 - val_acc: 0.9270\n",
      "Epoch 7/100\n",
      "100/100 [==============================] - 150s 1s/step - loss: 0.1891 - acc: 0.9220 - val_loss: 0.2218 - val_acc: 0.9100\n",
      "Epoch 8/100\n",
      "100/100 [==============================] - 149s 1s/step - loss: 0.1651 - acc: 0.9315 - val_loss: 0.1869 - val_acc: 0.9280\n",
      "Epoch 9/100\n",
      "100/100 [==============================] - 149s 1s/step - loss: 0.1631 - acc: 0.9350 - val_loss: 0.1888 - val_acc: 0.9310\n",
      "Epoch 10/100\n",
      "100/100 [==============================] - 151s 2s/step - loss: 0.1588 - acc: 0.9340 - val_loss: 0.1789 - val_acc: 0.9280\n",
      "Epoch 11/100\n",
      "100/100 [==============================] - 151s 2s/step - loss: 0.1464 - acc: 0.9390 - val_loss: 0.1821 - val_acc: 0.9350\n",
      "Epoch 12/100\n",
      "100/100 [==============================] - 150s 1s/step - loss: 0.1566 - acc: 0.9365 - val_loss: 0.1814 - val_acc: 0.9370\n",
      "Epoch 13/100\n",
      "100/100 [==============================] - 150s 1s/step - loss: 0.1396 - acc: 0.9415 - val_loss: 0.1801 - val_acc: 0.9320\n",
      "Epoch 14/100\n",
      "100/100 [==============================] - 150s 1s/step - loss: 0.1277 - acc: 0.9505 - val_loss: 0.2578 - val_acc: 0.9120\n",
      "Epoch 15/100\n",
      "100/100 [==============================] - 150s 1s/step - loss: 0.1274 - acc: 0.9460 - val_loss: 0.1757 - val_acc: 0.9300\n",
      "Epoch 16/100\n",
      "100/100 [==============================] - 150s 1s/step - loss: 0.1132 - acc: 0.9570 - val_loss: 0.1869 - val_acc: 0.9310\n",
      "Epoch 17/100\n",
      "100/100 [==============================] - 149s 1s/step - loss: 0.1162 - acc: 0.9575 - val_loss: 0.1916 - val_acc: 0.9370\n",
      "Epoch 18/100\n",
      "100/100 [==============================] - 149s 1s/step - loss: 0.1042 - acc: 0.9645 - val_loss: 0.1888 - val_acc: 0.9320\n",
      "Epoch 19/100\n",
      "100/100 [==============================] - 150s 2s/step - loss: 0.1104 - acc: 0.9600 - val_loss: 0.1704 - val_acc: 0.9370\n",
      "Epoch 20/100\n",
      "100/100 [==============================] - 149s 1s/step - loss: 0.1078 - acc: 0.9620 - val_loss: 0.1935 - val_acc: 0.9340\n",
      "Epoch 21/100\n",
      "100/100 [==============================] - 150s 1s/step - loss: 0.0963 - acc: 0.9615 - val_loss: 0.2848 - val_acc: 0.9140\n",
      "Epoch 22/100\n",
      "100/100 [==============================] - 151s 2s/step - loss: 0.0831 - acc: 0.9700 - val_loss: 0.2345 - val_acc: 0.9250\n",
      "Epoch 23/100\n",
      "100/100 [==============================] - 151s 2s/step - loss: 0.0748 - acc: 0.9705 - val_loss: 0.2300 - val_acc: 0.9200\n",
      "Epoch 24/100\n",
      "100/100 [==============================] - 150s 1s/step - loss: 0.0873 - acc: 0.9710 - val_loss: 0.2034 - val_acc: 0.9320\n",
      "Epoch 25/100\n",
      "100/100 [==============================] - 150s 2s/step - loss: 0.0820 - acc: 0.9730 - val_loss: 0.1799 - val_acc: 0.9340\n",
      "Epoch 26/100\n",
      "100/100 [==============================] - 149s 1s/step - loss: 0.0698 - acc: 0.9775 - val_loss: 0.2241 - val_acc: 0.9340\n",
      "Epoch 27/100\n",
      "100/100 [==============================] - 150s 2s/step - loss: 0.0669 - acc: 0.9755 - val_loss: 0.2162 - val_acc: 0.9300\n",
      "Epoch 28/100\n",
      "100/100 [==============================] - 150s 2s/step - loss: 0.0711 - acc: 0.9710 - val_loss: 0.3197 - val_acc: 0.9100\n",
      "Epoch 29/100\n",
      "100/100 [==============================] - 151s 2s/step - loss: 0.0701 - acc: 0.9740 - val_loss: 0.2633 - val_acc: 0.9210\n",
      "Epoch 30/100\n",
      "100/100 [==============================] - 150s 2s/step - loss: 0.0712 - acc: 0.9755 - val_loss: 0.2113 - val_acc: 0.9320\n",
      "Epoch 31/100\n",
      "100/100 [==============================] - 149s 1s/step - loss: 0.0787 - acc: 0.9685 - val_loss: 0.2222 - val_acc: 0.9300\n",
      "Epoch 32/100\n",
      "100/100 [==============================] - 150s 1s/step - loss: 0.0611 - acc: 0.9785 - val_loss: 0.1749 - val_acc: 0.9370\n",
      "Epoch 33/100\n",
      "100/100 [==============================] - 151s 2s/step - loss: 0.0631 - acc: 0.9785 - val_loss: 0.1856 - val_acc: 0.9320\n",
      "Epoch 34/100\n",
      "100/100 [==============================] - 150s 2s/step - loss: 0.0685 - acc: 0.9745 - val_loss: 0.2461 - val_acc: 0.9250\n",
      "Epoch 35/100\n",
      "100/100 [==============================] - 151s 2s/step - loss: 0.0595 - acc: 0.9800 - val_loss: 0.1882 - val_acc: 0.9400\n",
      "Epoch 36/100\n",
      "100/100 [==============================] - 151s 2s/step - loss: 0.0537 - acc: 0.9800 - val_loss: 0.5018 - val_acc: 0.8920\n",
      "Epoch 37/100\n",
      "100/100 [==============================] - 151s 2s/step - loss: 0.0508 - acc: 0.9795 - val_loss: 0.1876 - val_acc: 0.9430\n",
      "Epoch 38/100\n",
      "100/100 [==============================] - 152s 2s/step - loss: 0.0476 - acc: 0.9815 - val_loss: 0.4119 - val_acc: 0.9120\n",
      "Epoch 39/100\n",
      "100/100 [==============================] - 152s 2s/step - loss: 0.0534 - acc: 0.9805 - val_loss: 0.1906 - val_acc: 0.9340\n",
      "Epoch 40/100\n",
      "100/100 [==============================] - 153s 2s/step - loss: 0.0472 - acc: 0.9800 - val_loss: 0.1985 - val_acc: 0.9400\n",
      "Epoch 41/100\n",
      "100/100 [==============================] - 153s 2s/step - loss: 0.0462 - acc: 0.9835 - val_loss: 0.2015 - val_acc: 0.9360\n",
      "Epoch 42/100\n",
      "100/100 [==============================] - 152s 2s/step - loss: 0.0509 - acc: 0.9820 - val_loss: 0.2019 - val_acc: 0.9340\n",
      "Epoch 43/100\n",
      "100/100 [==============================] - 153s 2s/step - loss: 0.0509 - acc: 0.9790 - val_loss: 0.2137 - val_acc: 0.9350\n",
      "Epoch 44/100\n",
      "100/100 [==============================] - 152s 2s/step - loss: 0.0489 - acc: 0.9840 - val_loss: 0.2300 - val_acc: 0.9240\n",
      "Epoch 45/100\n",
      "100/100 [==============================] - 153s 2s/step - loss: 0.0484 - acc: 0.9835 - val_loss: 0.2815 - val_acc: 0.9260\n",
      "Epoch 46/100\n",
      "100/100 [==============================] - 153s 2s/step - loss: 0.0389 - acc: 0.9880 - val_loss: 0.4046 - val_acc: 0.9120\n",
      "Epoch 47/100\n",
      "100/100 [==============================] - 152s 2s/step - loss: 0.0389 - acc: 0.9855 - val_loss: 0.2626 - val_acc: 0.9390\n",
      "Epoch 48/100\n",
      "100/100 [==============================] - 152s 2s/step - loss: 0.0394 - acc: 0.9880 - val_loss: 0.2201 - val_acc: 0.9400\n",
      "Epoch 49/100\n",
      "100/100 [==============================] - 152s 2s/step - loss: 0.0307 - acc: 0.9875 - val_loss: 0.2797 - val_acc: 0.9230\n",
      "Epoch 50/100\n",
      "100/100 [==============================] - 151s 2s/step - loss: 0.0397 - acc: 0.9870 - val_loss: 0.2310 - val_acc: 0.9370\n",
      "Epoch 51/100\n",
      "100/100 [==============================] - 151s 2s/step - loss: 0.0347 - acc: 0.9890 - val_loss: 0.2534 - val_acc: 0.9330\n",
      "Epoch 52/100\n",
      "100/100 [==============================] - 151s 2s/step - loss: 0.0363 - acc: 0.9865 - val_loss: 0.2481 - val_acc: 0.9350\n",
      "Epoch 53/100\n",
      "100/100 [==============================] - 151s 2s/step - loss: 0.0372 - acc: 0.9870 - val_loss: 0.2414 - val_acc: 0.9430\n",
      "Epoch 54/100\n",
      "100/100 [==============================] - 151s 2s/step - loss: 0.0367 - acc: 0.9885 - val_loss: 0.2188 - val_acc: 0.9450\n",
      "Epoch 55/100\n",
      "100/100 [==============================] - 151s 2s/step - loss: 0.0443 - acc: 0.9835 - val_loss: 0.2139 - val_acc: 0.9320\n",
      "Epoch 56/100\n",
      "100/100 [==============================] - 151s 2s/step - loss: 0.0264 - acc: 0.9900 - val_loss: 0.3732 - val_acc: 0.9190\n",
      "Epoch 57/100\n",
      "100/100 [==============================] - 151s 2s/step - loss: 0.0394 - acc: 0.9855 - val_loss: 0.2483 - val_acc: 0.9330\n",
      "Epoch 58/100\n",
      "100/100 [==============================] - 151s 2s/step - loss: 0.0283 - acc: 0.9895 - val_loss: 0.2363 - val_acc: 0.9370\n",
      "Epoch 59/100\n",
      "100/100 [==============================] - 154s 2s/step - loss: 0.0268 - acc: 0.9905 - val_loss: 0.2984 - val_acc: 0.9260\n",
      "Epoch 60/100\n",
      "100/100 [==============================] - 151s 2s/step - loss: 0.0250 - acc: 0.9915 - val_loss: 0.2250 - val_acc: 0.9390\n",
      "Epoch 61/100\n",
      "100/100 [==============================] - 152s 2s/step - loss: 0.0384 - acc: 0.9855 - val_loss: 0.2044 - val_acc: 0.9340\n",
      "Epoch 62/100\n",
      "100/100 [==============================] - 151s 2s/step - loss: 0.0347 - acc: 0.9890 - val_loss: 0.2095 - val_acc: 0.9350\n",
      "Epoch 63/100\n",
      "100/100 [==============================] - 152s 2s/step - loss: 0.0285 - acc: 0.9890 - val_loss: 0.2206 - val_acc: 0.9340\n",
      "Epoch 64/100\n",
      "100/100 [==============================] - 152s 2s/step - loss: 0.0328 - acc: 0.9880 - val_loss: 0.2309 - val_acc: 0.9360\n",
      "Epoch 65/100\n",
      "100/100 [==============================] - 152s 2s/step - loss: 0.0436 - acc: 0.9855 - val_loss: 0.2341 - val_acc: 0.9330\n",
      "Epoch 66/100\n",
      "100/100 [==============================] - 150s 2s/step - loss: 0.0305 - acc: 0.9900 - val_loss: 0.2371 - val_acc: 0.9340\n",
      "Epoch 67/100\n",
      "100/100 [==============================] - 150s 1s/step - loss: 0.0329 - acc: 0.9875 - val_loss: 0.2522 - val_acc: 0.9380\n",
      "Epoch 68/100\n",
      "100/100 [==============================] - 151s 2s/step - loss: 0.0212 - acc: 0.9915 - val_loss: 0.2575 - val_acc: 0.9360\n",
      "Epoch 69/100\n",
      "100/100 [==============================] - 150s 1s/step - loss: 0.0257 - acc: 0.9875 - val_loss: 0.2628 - val_acc: 0.9360\n",
      "Epoch 70/100\n",
      "100/100 [==============================] - 150s 1s/step - loss: 0.0412 - acc: 0.9860 - val_loss: 0.2188 - val_acc: 0.9420\n",
      "Epoch 71/100\n",
      "100/100 [==============================] - 149s 1s/step - loss: 0.0204 - acc: 0.9915 - val_loss: 0.2519 - val_acc: 0.9370\n",
      "Epoch 72/100\n",
      "100/100 [==============================] - 147s 1s/step - loss: 0.0237 - acc: 0.9900 - val_loss: 0.2665 - val_acc: 0.9340\n",
      "Epoch 73/100\n",
      "100/100 [==============================] - 147s 1s/step - loss: 0.0209 - acc: 0.9940 - val_loss: 0.3354 - val_acc: 0.9280\n",
      "Epoch 74/100\n",
      "100/100 [==============================] - 147s 1s/step - loss: 0.0263 - acc: 0.9910 - val_loss: 0.4401 - val_acc: 0.9150\n",
      "Epoch 75/100\n",
      "100/100 [==============================] - 148s 1s/step - loss: 0.0257 - acc: 0.9895 - val_loss: 0.2634 - val_acc: 0.9320\n",
      "Epoch 76/100\n",
      "100/100 [==============================] - 148s 1s/step - loss: 0.0222 - acc: 0.9915 - val_loss: 0.4272 - val_acc: 0.9180\n",
      "Epoch 77/100\n",
      "100/100 [==============================] - 148s 1s/step - loss: 0.0236 - acc: 0.9915 - val_loss: 0.2530 - val_acc: 0.9350\n",
      "Epoch 78/100\n",
      "100/100 [==============================] - 148s 1s/step - loss: 0.0291 - acc: 0.9895 - val_loss: 0.2566 - val_acc: 0.9350\n",
      "Epoch 79/100\n",
      "100/100 [==============================] - 148s 1s/step - loss: 0.0293 - acc: 0.9900 - val_loss: 0.3140 - val_acc: 0.9310\n",
      "Epoch 80/100\n",
      "100/100 [==============================] - 148s 1s/step - loss: 0.0154 - acc: 0.9950 - val_loss: 0.3648 - val_acc: 0.9290\n",
      "Epoch 81/100\n",
      "100/100 [==============================] - 150s 1s/step - loss: 0.0196 - acc: 0.9920 - val_loss: 0.2894 - val_acc: 0.9330\n",
      "Epoch 82/100\n",
      "100/100 [==============================] - 150s 2s/step - loss: 0.0196 - acc: 0.9940 - val_loss: 0.2939 - val_acc: 0.9280\n",
      "Epoch 83/100\n",
      "100/100 [==============================] - 147s 1s/step - loss: 0.0348 - acc: 0.9885 - val_loss: 0.2682 - val_acc: 0.9380\n",
      "Epoch 84/100\n",
      "100/100 [==============================] - 148s 1s/step - loss: 0.0206 - acc: 0.9920 - val_loss: 0.4467 - val_acc: 0.9250\n",
      "Epoch 85/100\n",
      "100/100 [==============================] - 148s 1s/step - loss: 0.0187 - acc: 0.9945 - val_loss: 0.2405 - val_acc: 0.9380\n",
      "Epoch 86/100\n",
      "100/100 [==============================] - 148s 1s/step - loss: 0.0160 - acc: 0.9950 - val_loss: 0.2531 - val_acc: 0.9420\n",
      "Epoch 87/100\n",
      "100/100 [==============================] - 148s 1s/step - loss: 0.0210 - acc: 0.9925 - val_loss: 0.2905 - val_acc: 0.9410\n",
      "Epoch 88/100\n",
      "100/100 [==============================] - 148s 1s/step - loss: 0.0329 - acc: 0.9910 - val_loss: 0.2922 - val_acc: 0.9360\n",
      "Epoch 89/100\n",
      "100/100 [==============================] - 148s 1s/step - loss: 0.0221 - acc: 0.9925 - val_loss: 0.2221 - val_acc: 0.9400\n",
      "Epoch 90/100\n",
      "100/100 [==============================] - 148s 1s/step - loss: 0.0140 - acc: 0.9940 - val_loss: 0.3003 - val_acc: 0.9370\n",
      "Epoch 91/100\n",
      "100/100 [==============================] - 149s 1s/step - loss: 0.0281 - acc: 0.9895 - val_loss: 0.2838 - val_acc: 0.9430\n",
      "Epoch 92/100\n",
      "100/100 [==============================] - 147s 1s/step - loss: 0.0281 - acc: 0.9900 - val_loss: 0.2871 - val_acc: 0.9400\n",
      "Epoch 93/100\n",
      "100/100 [==============================] - 147s 1s/step - loss: 0.0235 - acc: 0.9935 - val_loss: 0.2438 - val_acc: 0.9410\n",
      "Epoch 94/100\n",
      "100/100 [==============================] - 147s 1s/step - loss: 0.0176 - acc: 0.9935 - val_loss: 0.2415 - val_acc: 0.9400\n",
      "Epoch 95/100\n",
      "100/100 [==============================] - 148s 1s/step - loss: 0.0197 - acc: 0.9925 - val_loss: 0.3055 - val_acc: 0.9390\n",
      "Epoch 96/100\n",
      "100/100 [==============================] - 147s 1s/step - loss: 0.0192 - acc: 0.9950 - val_loss: 0.2635 - val_acc: 0.9360\n",
      "Epoch 97/100\n",
      "100/100 [==============================] - 148s 1s/step - loss: 0.0173 - acc: 0.9945 - val_loss: 0.3315 - val_acc: 0.9310\n",
      "Epoch 98/100\n",
      "100/100 [==============================] - 148s 1s/step - loss: 0.0148 - acc: 0.9950 - val_loss: 0.2608 - val_acc: 0.9400\n",
      "Epoch 99/100\n",
      "100/100 [==============================] - 148s 1s/step - loss: 0.0188 - acc: 0.9950 - val_loss: 0.3152 - val_acc: 0.9330\n",
      "Epoch 100/100\n",
      "100/100 [==============================] - 149s 1s/step - loss: 0.0155 - acc: 0.9935 - val_loss: 0.2553 - val_acc: 0.9380\n"
     ]
    }
   ],
   "source": [
    "model.compile(loss='binary_crossentropy',\n",
    "              optimizer=optimizers.RMSprop(lr=1e-5),\n",
    "              metrics=['acc'])\n",
    "\n",
    "history = model.fit(\n",
    "      train_generator,\n",
    "      steps_per_epoch=100,\n",
    "      epochs=100,\n",
    "      validation_data=validation_generator,\n",
    "      validation_steps=50)"
   ]
  },
  {
   "cell_type": "markdown",
   "metadata": {},
   "source": [
    "Save the model to your disk for further processing. I have put the model on Moodle, since it was too large to be put on github. On my machine (the same that was mentioned above) the computation last for about 4,5 hours."
   ]
  },
  {
   "cell_type": "code",
   "execution_count": 20,
   "metadata": {},
   "outputs": [],
   "source": [
    "model.save('CatDogClass_pretrained_CNN_FeatExtraction_using_fine-tuning.h5')"
   ]
  },
  {
   "cell_type": "code",
   "execution_count": 21,
   "metadata": {},
   "outputs": [],
   "source": [
    "# dump the history object to a file using pickle\n",
    "with open('C:/Users/gheisenb/Desktop/home/projects/ANN/Übungen/src'+\n",
    "          '/CatDogClass_pretrained_CNN_FeatExtraction_using_fine-tuning_History', 'wb') as file:\n",
    "    model_history= History_trained_model(history.history, history.epoch, history.params)\n",
    "    pickle.dump(model_history, file, pickle.HIGHEST_PROTOCOL)    "
   ]
  },
  {
   "cell_type": "markdown",
   "metadata": {},
   "source": [
    "<font color=\"ce33ff\">TASK 7</font>"
   ]
  },
  {
   "cell_type": "code",
   "execution_count": 22,
   "metadata": {},
   "outputs": [
    {
     "data": {
      "text/plain": [
       "'do a validation using a history object'"
      ]
     },
     "execution_count": 22,
     "metadata": {},
     "output_type": "execute_result"
    }
   ],
   "source": [
    "'''load the model here'''\n",
    "# add you code\n",
    "\n",
    "\n",
    "'''do a validation using a history object'''\n",
    "# add your code"
   ]
  },
  {
   "cell_type": "markdown",
   "metadata": {},
   "source": [
    "Now, plot the results using the same plotting code as before."
   ]
  },
  {
   "cell_type": "code",
   "execution_count": 23,
   "metadata": {},
   "outputs": [
    {
     "data": {
      "image/png": "[encoded data removed]",
      "text/plain": [
       "<Figure size 432x288 with 1 Axes>"
      ]
     },
     "metadata": {
      "needs_background": "light"
     },
     "output_type": "display_data"
    },
    {
     "data": {
      "image/png": "[encoded data removed]",
      "text/plain": [
       "<Figure size 432x288 with 1 Axes>"
      ]
     },
     "metadata": {
      "needs_background": "light"
     },
     "output_type": "display_data"
    }
   ],
   "source": [
    "acc = history.history['acc']\n",
    "val_acc = history.history['val_acc']\n",
    "loss = history.history['loss']\n",
    "val_loss = history.history['val_loss']\n",
    "\n",
    "epochs = range(len(acc))\n",
    "\n",
    "plt.plot(epochs, acc, 'bo', label='Training acc')\n",
    "plt.plot(epochs, val_acc, 'b', label='Validation acc')\n",
    "plt.title('Training and validation accuracy')\n",
    "plt.legend()\n",
    "\n",
    "plt.figure()\n",
    "\n",
    "plt.plot(epochs, loss, 'bo', label='Training loss')\n",
    "plt.plot(epochs, val_loss, 'b', label='Validation loss')\n",
    "plt.title('Training and validation loss')\n",
    "plt.legend()\n",
    "\n",
    "plt.show()"
   ]
  },
  {
   "cell_type": "markdown",
   "metadata": {},
   "source": [
    "### result of fine tuning\n",
    "\n",
    "This is a higher validation accuracy using data augmentation and so it is much better than the small CNN trained from scratch. These curves look very noisy. To make them more readable, smooth them by replacing every loss and accuracy value with the exponential moving averages of these quantities. Here is a trivial utility function to do this. BTW, this is very often used when working with financial stock market data.Try to follow and understand the code."
   ]
  },
  {
   "cell_type": "code",
   "execution_count": 24,
   "metadata": {},
   "outputs": [
    {
     "data": {
      "image/png": "[encoded data removed]",
      "text/plain": [
       "<Figure size 432x288 with 1 Axes>"
      ]
     },
     "metadata": {
      "needs_background": "light"
     },
     "output_type": "display_data"
    },
    {
     "data": {
      "image/png": "[encoded data removed]",
      "text/plain": [
       "<Figure size 432x288 with 1 Axes>"
      ]
     },
     "metadata": {
      "needs_background": "light"
     },
     "output_type": "display_data"
    }
   ],
   "source": [
    "def smooth_curve(points, factor=0.8):\n",
    "  smoothed_points = []\n",
    "  for point in points:\n",
    "    if smoothed_points:\n",
    "      previous = smoothed_points[-1]\n",
    "      smoothed_points.append(previous * factor + point * (1 - factor))\n",
    "    else:\n",
    "      smoothed_points.append(point)\n",
    "  return smoothed_points\n",
    "\n",
    "plt.plot(epochs,\n",
    "         smooth_curve(acc), 'bo', label='Smoothed training acc')\n",
    "plt.plot(epochs,\n",
    "         smooth_curve(val_acc), 'b', label='Smoothed validation acc')\n",
    "plt.title('Training and validation accuracy')\n",
    "plt.legend()\n",
    "\n",
    "plt.figure()\n",
    "\n",
    "plt.plot(epochs,\n",
    "         smooth_curve(loss), 'bo', label='Smoothed training loss')\n",
    "plt.plot(epochs,\n",
    "         smooth_curve(val_loss), 'b', label='Smoothed validation loss')\n",
    "plt.title('Training and validation loss')\n",
    "plt.legend()\n",
    "\n",
    "plt.show()"
   ]
  },
  {
   "cell_type": "markdown",
   "metadata": {},
   "source": [
    "Double BAMM!<br>\n",
    "These curves look much cleaner and more stable. This is a very nice 1% absolute improvement.\n",
    "\n",
    "<font color=\"#C70039\">IMPORTANT NOTE:</font> See that the loss curve does not show any real improvement (in fact, it is deteriorating). You may wonder, how could accuracy improve if the loss isn't decreasing? The answer is simple: what is displayed here is an average of pointwise loss values, but what actually matters for accuracy is the distribution of the loss values, not their average, since accuracy is the result of a binary thresholding of the class probability predicted by the model. The model may still be improving even if this isn't reflected in the average loss.\n",
    "\n",
    "Now finally evaluate this model on the test data."
   ]
  },
  {
   "cell_type": "code",
   "execution_count": 25,
   "metadata": {},
   "outputs": [
    {
     "name": "stdout",
     "output_type": "stream",
     "text": [
      "Found 1000 images belonging to 2 classes.\n",
      "WARNING:tensorflow:From <ipython-input-25-19f8443b6c42>:7: Model.evaluate_generator (from tensorflow.python.keras.engine.training) is deprecated and will be removed in a future version.\n",
      "Instructions for updating:\n",
      "Please use Model.evaluate, which supports generators.\n",
      "WARNING:tensorflow:sample_weight modes were coerced from\n",
      "  ...\n",
      "    to  \n",
      "  ['...']\n",
      "test acc: 0.937\n"
     ]
    }
   ],
   "source": [
    "test_generator = test_datagen.flow_from_directory(\n",
    "        test_dir,\n",
    "        target_size=(150, 150),\n",
    "        batch_size=20,\n",
    "        class_mode='binary')\n",
    "\n",
    "test_loss, test_acc = model.evaluate_generator(test_generator, steps=50)\n",
    "print('test acc:', test_acc)"
   ]
  },
  {
   "cell_type": "markdown",
   "metadata": {},
   "source": [
    "\n",
    "Here we get a test accuracy of 94%. Using modern deep learning techniques, we managed to reach this result using only a very small fraction of the training data available (remember the dogs and cats data set to be 25.000 pictures large). There is a huge difference between being able to train on 20.000 samples compared to 2.000 samples!"
   ]
  },
  {
   "cell_type": "markdown",
   "metadata": {},
   "source": [
    "<font color=\"ce33ff\">TASK 8</font>"
   ]
  },
  {
   "cell_type": "code",
   "execution_count": 26,
   "metadata": {},
   "outputs": [],
   "source": [
    "# add your own code here\n",
    "\n"
   ]
  }
 ],
 "metadata": {
  "kernelspec": {
   "display_name": "Python 3",
   "language": "python",
   "name": "python3"
  },
  "language_info": {
   "codemirror_mode": {
    "name": "ipython",
    "version": 3
   },
   "file_extension": ".py",
   "mimetype": "text/x-python",
   "name": "python",
   "nbconvert_exporter": "python",
   "pygments_lexer": "ipython3",
   "version": "3.7.7"
  }
 },
 "nbformat": 4,
 "nbformat_minor": 2
}
